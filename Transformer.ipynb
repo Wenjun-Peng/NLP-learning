{
 "cells": [
  {
   "cell_type": "markdown",
   "metadata": {},
   "source": [
    "# SeqToSeq\n",
    "RNN: hard to parallel</br>\n",
    "solution1: solve this problem using CNN</br>\n",
    "![avatar](pic/RNNvsCNN.png)\n",
    "</br>\n",
    "\n",
    "solution2: solve this problem using Self-Attention Layer</br>\n",
    "drawback: no consideration of sequence of words</br>\n",
    "![avatar](pic/RNNvsSelfAttention.png)\n",
    "\n",
    "</br>\n",
    "\n",
    "李宏毅老师讲解视频：https://www.youtube.com/watch?v=ugWDIIOHtPA\n",
    "</br>\n",
    "self-attention论文：https://arxiv.org/abs/1706.03762"
   ]
  },
  {
   "cell_type": "markdown",
   "metadata": {},
   "source": [
    "# self-attention机制以及为什么可以被GPU加速\n",
    "![avatar](pic/self-attention-calculate.png)\n",
    "![avatar](pic/self-attention-GPU.png)"
   ]
  },
  {
   "cell_type": "markdown",
   "metadata": {},
   "source": [
    "# Transformer架构\n",
    "![avatar](pic/transformer.png)"
   ]
  },
  {
   "cell_type": "code",
   "execution_count": null,
   "metadata": {},
   "outputs": [],
   "source": []
  }
 ],
 "metadata": {
  "kernelspec": {
   "display_name": "Python 3",
   "language": "python",
   "name": "python3"
  },
  "language_info": {
   "codemirror_mode": {
    "name": "ipython",
    "version": 3
   },
   "file_extension": ".py",
   "mimetype": "text/x-python",
   "name": "python",
   "nbconvert_exporter": "python",
   "pygments_lexer": "ipython3",
   "version": "3.7.4"
  }
 },
 "nbformat": 4,
 "nbformat_minor": 4
}
