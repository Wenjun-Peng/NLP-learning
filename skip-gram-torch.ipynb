{
 "cells": [
  {
   "cell_type": "code",
   "execution_count": 1,
   "metadata": {},
   "outputs": [],
   "source": [
    "import torch\n",
    "import torch.nn as nn\n",
    "import torch.nn.functional as F\n",
    "from torch.autograd import Variable\n",
    "from utils import process_w2v_data\n",
    "from visual import show_w2v_word_embedding\n",
    "import matplotlib.pyplot as plt"
   ]
  },
  {
   "cell_type": "code",
   "execution_count": 2,
   "metadata": {},
   "outputs": [],
   "source": [
    "corpus = [\n",
    "    # numbers\n",
    "    \"5 2 4 8 6 2 3 6 4\",\n",
    "    \"4 8 5 6 9 5 5 6\",\n",
    "    \"1 1 5 2 3 3 8\",\n",
    "    \"3 6 9 6 8 7 4 6 3\",\n",
    "    \"8 9 9 6 1 4 3 4\",\n",
    "    \"1 0 2 0 2 1 3 3 3 3 3\",\n",
    "    \"9 3 3 0 1 4 7 8\",\n",
    "    \"9 9 8 5 6 7 1 2 3 0 1 0\",\n",
    "\n",
    "    # alphabets, expecting that 9 is close to letters\n",
    "    \"a t g q e h 9 u f\",\n",
    "    \"e q y u o i p s\",\n",
    "    \"q o 9 p l k j o k k o p\",\n",
    "    \"h g y i u t t a e q\",\n",
    "    \"i k d q r e 9 e a d\",\n",
    "    \"o p d g 9 s a f g a\",\n",
    "    \"i u y g h k l a s w\",\n",
    "    \"o l u y a o g f s\",\n",
    "    \"o p i u y g d a s j d l\",\n",
    "    \"u k i l o 9 l j s\",\n",
    "    \"y g i s h k j l f r f\",\n",
    "    \"i o h n 9 9 d 9 f a 9\",\n",
    "]\n",
    "\n",
    "#hyper parameters\n",
    "emb_dim = 2\n",
    "BATCH_SIZE = 10\n",
    "LR = 0.001"
   ]
  },
  {
   "cell_type": "code",
   "execution_count": 3,
   "metadata": {},
   "outputs": [
    {
     "name": "stdout",
     "output_type": "stream",
     "text": [
      "all vocabularies sorted from more frequent to less frequent:\n",
      " ['9' '3' 'o' '6' 'a' '1' 'i' 'g' 's' '4' 'l' 'k' '8' 'u' '2' 'd' '5' 'y'\n",
      " 'f' 'e' 'h' 'p' 'q' '0' 'j' '7' 't' 'r' 'w' 'n']\n",
      "5 example pairs:\n",
      " [[16 14]\n",
      " [16  9]\n",
      " [14 16]\n",
      " [14  9]\n",
      " [14 12]]\n",
      "Skip_gram(\n",
      "  (embeddings): Embedding(30, 2)\n",
      "  (dense): Linear(in_features=2, out_features=30, bias=True)\n",
      ")\n"
     ]
    }
   ],
   "source": [
    "class Skip_gram(nn.Module):\n",
    "    def __init__(self, v_dim, emb_dim):\n",
    "        super(Skip_gram, self).__init__()\n",
    "        self.embeddings = nn.Embedding(\n",
    "            num_embeddings = v_dim,\n",
    "            embedding_dim = emb_dim,\n",
    "        )\n",
    "        \n",
    "        self.dense = nn.Linear(\n",
    "            in_features=emb_dim,\n",
    "            out_features=v_dim,\n",
    "        )\n",
    "        \n",
    "    def forward(self, x):\n",
    "        x = self.embeddings(x)\n",
    "        x = self.dense(x)\n",
    "        log_probs = F.log_softmax(x, dim=0)\n",
    "        return log_probs\n",
    "        \n",
    "        \n",
    "data = process_w2v_data(corpus, skip_window=2, method=\"skip_gram\")\n",
    "skip_gram = Skip_gram(data.num_word, emb_dim)\n",
    "loss_func = nn.NLLLoss()\n",
    "opt = torch.optim.Adam(skip_gram.parameters(),lr=LR)\n",
    "\n",
    "print(skip_gram)"
   ]
  },
  {
   "cell_type": "code",
   "execution_count": 8,
   "metadata": {},
   "outputs": [
    {
     "name": "stdout",
     "output_type": "stream",
     "text": [
      "step: 0 | loss: 1.447030782699585   accuracy:  0.2\n",
      "step: 2000 | loss: 1.5890194177627563   accuracy:  0.2\n",
      "step: 4000 | loss: 1.9249961376190186   accuracy:  0.0\n",
      "step: 6000 | loss: 1.7325966358184814   accuracy:  0.0\n",
      "step: 8000 | loss: 1.4372904300689697   accuracy:  0.3\n",
      "step: 10000 | loss: 1.697511076927185   accuracy:  0.1\n"
     ]
    }
   ],
   "source": [
    "for i in range(10001):\n",
    "    bx, by = data.sample(BATCH_SIZE)\n",
    "    bx, by = torch.Tensor(bx).long(), torch.Tensor(by.reshape((-1))).long()\n",
    "    y_head = skip_gram(bx)\n",
    "    loss = loss_func(y_head, by)\n",
    "    \n",
    "    opt.zero_grad()\n",
    "    loss.backward()\n",
    "    opt.step()\n",
    "    if i % 2000 == 0:\n",
    "#         print(torch.argmax(y_head,1) == by)\n",
    "        accuracy = float((torch.argmax(y_head,1) == by).sum())/BATCH_SIZE\n",
    "        print(\"step: {} | loss: {}\".format(i, loss), \"  accuracy: \", accuracy)"
   ]
  },
  {
   "cell_type": "code",
   "execution_count": 10,
   "metadata": {},
   "outputs": [
    {
     "data": {
      "image/png": "[encoded data removed]",
      "text/plain": [
       "<Figure size 432x288 with 1 Axes>"
      ]
     },
     "metadata": {
      "needs_background": "light"
     },
     "output_type": "display_data"
    }
   ],
   "source": [
    "path = \"./visual/results/skip_gram-torch.png\"\n",
    "word_emb = skip_gram.embeddings.weight\n",
    "for i in range(data.num_word):\n",
    "    c = \"blue\"\n",
    "    try:\n",
    "        int(data.i2v[i])\n",
    "    except ValueError:\n",
    "        c = \"red\"\n",
    "    plt.text(word_emb[i, 0], word_emb[i, 1], s=data.i2v[i], color=c, weight=\"bold\")\n",
    "plt.xlim(word_emb.detach().numpy()[:, 0].min() - .5, word_emb.detach().numpy()[:, 0].max() + .5)\n",
    "plt.ylim(word_emb.detach().numpy()[:, 1].min() - .5, word_emb.detach().numpy()[:, 1].max() + .5)\n",
    "# plt.xticks(())\n",
    "# plt.yticks(())\n",
    "plt.xlabel(\"embedding dim1\")\n",
    "plt.ylabel(\"embedding dim2\")\n",
    "plt.savefig(path, dpi=300, format=\"png\")\n",
    "plt.show()"
   ]
  },
  {
   "cell_type": "code",
   "execution_count": null,
   "metadata": {},
   "outputs": [],
   "source": []
  }
 ],
 "metadata": {
  "kernelspec": {
   "display_name": "Python 3",
   "language": "python",
   "name": "python3"
  },
  "language_info": {
   "codemirror_mode": {
    "name": "ipython",
    "version": 3
   },
   "file_extension": ".py",
   "mimetype": "text/x-python",
   "name": "python",
   "nbconvert_exporter": "python",
   "pygments_lexer": "ipython3",
   "version": "3.7.4"
  }
 },
 "nbformat": 4,
 "nbformat_minor": 4
}
