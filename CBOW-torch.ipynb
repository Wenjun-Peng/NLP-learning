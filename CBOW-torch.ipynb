{
 "cells": [
  {
   "cell_type": "markdown",
   "metadata": {},
   "source": [
    "# continuous bag of words(CBOW)"
   ]
  },
  {
   "cell_type": "code",
   "execution_count": 2,
   "metadata": {},
   "outputs": [],
   "source": [
    "import torch\n",
    "import torch.nn as nn\n",
    "import torch.nn.functional as F\n",
    "from torch.autograd import Variable\n",
    "from utils import process_w2v_data\n",
    "from visual import show_w2v_word_embedding\n",
    "import matplotlib.pyplot as plt"
   ]
  },
  {
   "cell_type": "code",
   "execution_count": 3,
   "metadata": {},
   "outputs": [],
   "source": [
    "corpus = [\n",
    "    # numbers\n",
    "    \"5 2 4 8 6 2 3 6 4\",\n",
    "    \"4 8 5 6 9 5 5 6\",\n",
    "    \"1 1 5 2 3 3 8\",\n",
    "    \"3 6 9 6 8 7 4 6 3\",\n",
    "    \"8 9 9 6 1 4 3 4\",\n",
    "    \"1 0 2 0 2 1 3 3 3 3 3\",\n",
    "    \"9 3 3 0 1 4 7 8\",\n",
    "    \"9 9 8 5 6 7 1 2 3 0 1 0\",\n",
    "\n",
    "    # alphabets, expecting that 9 is close to letters\n",
    "    \"a t g q e h 9 u f\",\n",
    "    \"e q y u o i p s\",\n",
    "    \"q o 9 p l k j o k k o p\",\n",
    "    \"h g y i u t t a e q\",\n",
    "    \"i k d q r e 9 e a d\",\n",
    "    \"o p d g 9 s a f g a\",\n",
    "    \"i u y g h k l a s w\",\n",
    "    \"o l u y a o g f s\",\n",
    "    \"o p i u y g d a s j d l\",\n",
    "    \"u k i l o 9 l j s\",\n",
    "    \"y g i s h k j l f r f\",\n",
    "    \"i o h n 9 9 d 9 f a 9\",\n",
    "]\n",
    "\n",
    "#hyper parameters\n",
    "emb_dim = 2\n",
    "BATCH_SIZE = 8\n",
    "LR = 0.001"
   ]
  },
  {
   "cell_type": "code",
   "execution_count": 15,
   "metadata": {},
   "outputs": [
    {
     "name": "stdout",
     "output_type": "stream",
     "text": [
      "all vocabularies sorted from more frequent to less frequent:\n",
      " ['9' '3' 'o' '6' 'a' '1' 'i' 'g' 's' '4' 'l' 'k' '8' 'u' '2' 'd' '5' 'y'\n",
      " 'f' 'e' 'h' 'p' 'q' '0' 'j' '7' 't' 'r' 'w' 'n']\n",
      "5 example pairs:\n",
      " [[16 14 12  3  9]\n",
      " [14  9  3 14 12]\n",
      " [ 9 12 14  1  3]\n",
      " [12  3  1  3 14]\n",
      " [ 3 14  3  9  1]]\n",
      "CBOW(\n",
      "  (embeddings): Embedding(30, 2)\n",
      "  (dense): Linear(in_features=2, out_features=30, bias=True)\n",
      ")\n"
     ]
    }
   ],
   "source": [
    "class CBOW(nn.Module):\n",
    "    def __init__(self, v_dim, emb_dim):\n",
    "        super(CBOW, self).__init__()\n",
    "        self.embeddings = nn.Embedding(\n",
    "            num_embeddings = v_dim,\n",
    "            embedding_dim = emb_dim,\n",
    "        )\n",
    "        \n",
    "        self.dense = nn.Linear(\n",
    "            in_features=emb_dim,\n",
    "            out_features=v_dim,\n",
    "        )\n",
    "    def forward(self, x):\n",
    "        x = self.embeddings(x)\n",
    "        x = torch.mean(x, dim=1)\n",
    "        x = self.dense(x)\n",
    "        log_probs = F.log_softmax(x, dim=0)\n",
    "        return log_probs\n",
    "# class CBOW(torch.nn.Module):\n",
    "#     def __init__(self, vocab_size, embedding_dim):\n",
    "#         super(CBOW, self).__init__()\n",
    "\n",
    "#         #out: 1 x emdedding_dim\n",
    "#         self.embeddings = nn.Embedding(vocab_size, embedding_dim)\n",
    "#         self.linear1 = nn.Linear(embedding_dim, 128)\n",
    "#         self.activation_function1 = nn.ReLU()\n",
    "        \n",
    "#         #out: 1 x vocab_size\n",
    "#         self.linear2 = nn.Linear(128, vocab_size)\n",
    "#         self.activation_function2 = nn.LogSoftmax(dim = -1)\n",
    "        \n",
    "\n",
    "#     def forward(self, inputs):\n",
    "# #         print(inputs.shape)\n",
    "#         embeds = self.embeddings(inputs)\n",
    "\n",
    "#         out = torch.mean(embeds,dim=1)\n",
    "#         out = self.linear1(out)\n",
    "#         out = self.activation_function1(out)\n",
    "#         out = self.linear2(out)\n",
    "#         out = self.activation_function2(out)\n",
    "       \n",
    "#         return out\n",
    "    \n",
    "data = process_w2v_data(corpus, skip_window=2, method=\"cbow\")\n",
    "cbow = CBOW(data.num_word, emb_dim)\n",
    "loss_func = nn.NLLLoss()\n",
    "opt = torch.optim.Adam(cbow.parameters(),lr=LR)\n",
    "print(cbow)"
   ]
  },
  {
   "cell_type": "code",
   "execution_count": 16,
   "metadata": {},
   "outputs": [
    {
     "name": "stdout",
     "output_type": "stream",
     "text": [
      "step: 0 | loss: 2.1746304035186768   accuracy:  0.0\n",
      "step: 2000 | loss: 1.5444486141204834   accuracy:  0.25\n",
      "step: 4000 | loss: 1.4605246782302856   accuracy:  0.0\n",
      "step: 6000 | loss: 1.078548550605774   accuracy:  0.375\n",
      "step: 8000 | loss: 1.2334538698196411   accuracy:  0.125\n",
      "step: 10000 | loss: 1.1721892356872559   accuracy:  0.375\n",
      "step: 12000 | loss: 0.8978868126869202   accuracy:  0.125\n",
      "step: 14000 | loss: 1.1889837980270386   accuracy:  0.375\n",
      "step: 16000 | loss: 1.4692327976226807   accuracy:  0.0\n",
      "step: 18000 | loss: 1.3337055444717407   accuracy:  0.125\n",
      "step: 20000 | loss: 1.1287716627120972   accuracy:  0.25\n",
      "step: 22000 | loss: 1.4738653898239136   accuracy:  0.0\n",
      "step: 24000 | loss: 1.0775225162506104   accuracy:  0.125\n",
      "step: 26000 | loss: 1.0944126844406128   accuracy:  0.0\n",
      "step: 28000 | loss: 1.2695621252059937   accuracy:  0.0\n",
      "step: 30000 | loss: 1.2650903463363647   accuracy:  0.125\n",
      "step: 32000 | loss: 0.8834136128425598   accuracy:  0.375\n",
      "step: 34000 | loss: 0.9790394902229309   accuracy:  0.0\n",
      "step: 36000 | loss: 1.2329950332641602   accuracy:  0.25\n",
      "step: 38000 | loss: 0.7840343713760376   accuracy:  0.125\n",
      "step: 40000 | loss: 1.250809669494629   accuracy:  0.25\n",
      "step: 42000 | loss: 0.6784169673919678   accuracy:  0.375\n",
      "step: 44000 | loss: 1.090861439704895   accuracy:  0.125\n",
      "step: 46000 | loss: 1.1255614757537842   accuracy:  0.125\n",
      "step: 48000 | loss: 0.9424719214439392   accuracy:  0.125\n",
      "step: 50000 | loss: 1.160858392715454   accuracy:  0.125\n",
      "step: 52000 | loss: 1.2963576316833496   accuracy:  0.375\n",
      "step: 54000 | loss: 0.7807738184928894   accuracy:  0.25\n",
      "step: 56000 | loss: 1.1980654001235962   accuracy:  0.0\n",
      "step: 58000 | loss: 0.8590447902679443   accuracy:  0.5\n",
      "step: 60000 | loss: 0.8811877369880676   accuracy:  0.375\n",
      "step: 62000 | loss: 0.6458410620689392   accuracy:  0.375\n",
      "step: 64000 | loss: 0.9416427612304688   accuracy:  0.25\n",
      "step: 66000 | loss: 1.3225237131118774   accuracy:  0.0\n",
      "step: 68000 | loss: 1.3115967512130737   accuracy:  0.25\n",
      "step: 70000 | loss: 0.9763092994689941   accuracy:  0.375\n",
      "step: 72000 | loss: 1.0324203968048096   accuracy:  0.0\n",
      "step: 74000 | loss: 1.2160776853561401   accuracy:  0.25\n",
      "step: 76000 | loss: 0.7074037790298462   accuracy:  0.25\n",
      "step: 78000 | loss: 0.7958343625068665   accuracy:  0.375\n",
      "step: 80000 | loss: 1.1112231016159058   accuracy:  0.0\n",
      "step: 82000 | loss: 0.8534719944000244   accuracy:  0.375\n",
      "step: 84000 | loss: 1.021484375   accuracy:  0.125\n",
      "step: 86000 | loss: 1.2796839475631714   accuracy:  0.375\n",
      "step: 88000 | loss: 0.7995417714118958   accuracy:  0.25\n",
      "step: 90000 | loss: 0.8258329033851624   accuracy:  0.5\n",
      "step: 92000 | loss: 0.7205092906951904   accuracy:  0.125\n",
      "step: 94000 | loss: 1.125442385673523   accuracy:  0.125\n",
      "step: 96000 | loss: 1.2123651504516602   accuracy:  0.375\n",
      "step: 98000 | loss: 0.8589364886283875   accuracy:  0.125\n",
      "step: 100000 | loss: 1.067023754119873   accuracy:  0.25\n"
     ]
    }
   ],
   "source": [
    "for i in range(100001):\n",
    "    bx, by = data.sample(BATCH_SIZE)\n",
    "    bx, by = torch.Tensor(bx).long(), torch.Tensor(by.reshape((-1))).long()\n",
    "    y_head = cbow(bx)\n",
    "    loss = loss_func(y_head, by)\n",
    "    \n",
    "    opt.zero_grad()\n",
    "    loss.backward()\n",
    "    opt.step()\n",
    "    if i % 2000 == 0:\n",
    "#         print(torch.argmax(y_head,1) == by)\n",
    "        accuracy = float((torch.argmax(y_head,1) == by).sum())/BATCH_SIZE\n",
    "        print(\"step: {} | loss: {}\".format(i, loss), \"  accuracy: \", accuracy)"
   ]
  },
  {
   "cell_type": "code",
   "execution_count": 17,
   "metadata": {},
   "outputs": [
    {
     "data": {
      "image/png": "[encoded data removed]",
      "text/plain": [
       "<Figure size 432x288 with 1 Axes>"
      ]
     },
     "metadata": {
      "needs_background": "light"
     },
     "output_type": "display_data"
    }
   ],
   "source": [
    "path = \"./visual/results/cbow-torch.png\"\n",
    "word_emb = cbow.embeddings.weight\n",
    "for i in range(data.num_word):\n",
    "    c = \"blue\"\n",
    "    try:\n",
    "        int(data.i2v[i])\n",
    "    except ValueError:\n",
    "        c = \"red\"\n",
    "    plt.text(word_emb[i, 0], word_emb[i, 1], s=data.i2v[i], color=c, weight=\"bold\")\n",
    "plt.xlim(word_emb.detach().numpy()[:, 0].min() - .5, word_emb.detach().numpy()[:, 0].max() + .5)\n",
    "plt.ylim(word_emb.detach().numpy()[:, 1].min() - .5, word_emb.detach().numpy()[:, 1].max() + .5)\n",
    "# plt.xticks(())\n",
    "# plt.yticks(())\n",
    "plt.xlabel(\"embedding dim1\")\n",
    "plt.ylabel(\"embedding dim2\")\n",
    "plt.savefig(path, dpi=300, format=\"png\")\n",
    "plt.show()"
   ]
  },
  {
   "cell_type": "code",
   "execution_count": null,
   "metadata": {},
   "outputs": [],
   "source": []
  }
 ],
 "metadata": {
  "kernelspec": {
   "display_name": "Python 3",
   "language": "python",
   "name": "python3"
  },
  "language_info": {
   "codemirror_mode": {
    "name": "ipython",
    "version": 3
   },
   "file_extension": ".py",
   "mimetype": "text/x-python",
   "name": "python",
   "nbconvert_exporter": "python",
   "pygments_lexer": "ipython3",
   "version": "3.7.4"
  }
 },
 "nbformat": 4,
 "nbformat_minor": 4
}
