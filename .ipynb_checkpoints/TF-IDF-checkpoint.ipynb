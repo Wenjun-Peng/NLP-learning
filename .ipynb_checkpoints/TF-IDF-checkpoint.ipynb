{
 "cells": [
  {
   "cell_type": "markdown",
   "metadata": {},
   "source": [
    "# prelearning for NLP\n",
    "* TF: term frequency, 某个词在某篇文章中出现的频率,用于衡量一篇文章中某个词的重要性</br>\n",
    "TF = 某篇文章中某词条出现的次数/该篇文章中所有词条数目\n",
    "* IDF: inverse document frequency, 全局中文章包含某个词的频率，用于衡量某一词在某一篇文章中的独特区分性（去除\"你，我，他\"之中在很多文章中都出现词的干扰）\n",
    "IDF = log(语料库中的文档总数/(包含某词条的文档数)+1)\n",
    "* TF-IDF：两者结合使用将该篇文章的关键字提取出来"
   ]
  },
  {
   "cell_type": "markdown",
   "metadata": {},
   "source": [
    "# 计算相关性\n",
    "* 使用TF与IDF计算出该文档中每个词的TF，IDF值\n",
    "* 将词对应的TF与IDF值相乘\n",
    "* 将这些值视作一个vector，如下图:</br>\n",
    "![avatar](pic/doc-vectors.png)\n",
    "* 搜索时，将关键词vector化，计算与各个文档vector的cos距离，进行相关性排序"
   ]
  },
  {
   "cell_type": "code",
   "execution_count": null,
   "metadata": {},
   "outputs": [],
   "source": []
  }
 ],
 "metadata": {
  "kernelspec": {
   "display_name": "Python 3",
   "language": "python",
   "name": "python3"
  },
  "language_info": {
   "codemirror_mode": {
    "name": "ipython",
    "version": 3
   },
   "file_extension": ".py",
   "mimetype": "text/x-python",
   "name": "python",
   "nbconvert_exporter": "python",
   "pygments_lexer": "ipython3",
   "version": "3.7.4"
  }
 },
 "nbformat": 4,
 "nbformat_minor": 4
}
